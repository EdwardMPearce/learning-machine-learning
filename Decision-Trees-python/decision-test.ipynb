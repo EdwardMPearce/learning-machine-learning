{
 "cells": [
  {
   "cell_type": "code",
   "execution_count": 1,
   "metadata": {},
   "outputs": [],
   "source": [
    "from decision import *"
   ]
  },
  {
   "cell_type": "code",
   "execution_count": null,
   "metadata": {},
   "outputs": [],
   "source": [
    "def test_information_content():\n",
    "    assert information_content([]) == 0\n",
    "    assert information_content([4]) == 0\n",
    "    assert information_content([5, 4, 0, 2, 5, 0]) > 1.9\n",
    "    assert information_content([5, 4, 0, 2, 5, 0]) < 2\n",
    "    assert information_content([1.5, 2.5]) > 0.9\n",
    "    assert information_content([1.5, 2.5]) < 1.0\n",
    "    \n",
    "test_information_content()"
   ]
  },
  {
   "cell_type": "code",
   "execution_count": 2,
   "metadata": {},
   "outputs": [
    {
     "data": {
      "text/plain": [
       "<DataSet(restaurant): 12 examples, 11 attributes>"
      ]
     },
     "execution_count": 2,
     "metadata": {},
     "output_type": "execute_result"
    }
   ],
   "source": [
    "restaurant"
   ]
  },
  {
   "cell_type": "code",
   "execution_count": 3,
   "metadata": {},
   "outputs": [
    {
     "data": {
      "text/plain": [
       "DecisionFork(4, 'Patrons', {'None': 'No', 'Some': 'Yes', 'Full': DecisionFork(9, 'WaitEstimate', {'>60': 'No', '0-10': 'Yes', '30-60': DecisionFork(0, 'Alternate', {'No': DecisionFork(7, 'Reservation', {'Yes': 'Yes', 'No': DecisionFork(1, 'Bar', {'No': 'No', 'Yes': 'Yes'})}), 'Yes': DecisionFork(2, 'Fri/Sat', {'No': 'No', 'Yes': 'Yes'})}), '10-30': DecisionFork(3, 'Hungry', {'No': 'Yes', 'Yes': DecisionFork(0, 'Alternate', {'No': 'Yes', 'Yes': DecisionFork(6, 'Raining', {'No': 'No', 'Yes': 'Yes'})})})})})"
      ]
     },
     "execution_count": 3,
     "metadata": {},
     "output_type": "execute_result"
    }
   ],
   "source": [
    "waiting_decision_tree"
   ]
  },
  {
   "cell_type": "code",
   "execution_count": 4,
   "metadata": {},
   "outputs": [
    {
     "data": {
      "text/plain": [
       "DecisionFork(4, 'Patrons', {'Full': DecisionFork(8, 'Type', {'Thai': DecisionFork(9, 'WaitEstimate', {'>60': 'Yes', '0-10': 'Yes', '30-60': 'No', '10-30': 'Yes'}), 'French': 'No', 'Italian': 'No', 'Burger': DecisionFork(0, 'Alternate', {'No': 'No', 'Yes': 'Yes'})}), 'None': 'No', 'Some': 'Yes'})"
      ]
     },
     "execution_count": 4,
     "metadata": {},
     "output_type": "execute_result"
    }
   ],
   "source": [
    "entropy_DTL = DecisionTreeLearner(restaurant)\n",
    "entropy_DTL"
   ]
  },
  {
   "cell_type": "code",
   "execution_count": 5,
   "metadata": {},
   "outputs": [
    {
     "data": {
      "text/plain": [
       "DecisionFork(4, 'Patrons', {'Full': DecisionFork(3, 'Hungry', {'No': 'No', 'Yes': DecisionFork(8, 'Type', {'Thai': DecisionFork(9, 'WaitEstimate', {'>60': 'Yes', '0-10': 'Yes', '30-60': 'No', '10-30': 'Yes'}), 'French': 'No', 'Italian': 'No', 'Burger': 'Yes'})}), 'None': 'No', 'Some': 'Yes'})"
      ]
     },
     "execution_count": 5,
     "metadata": {},
     "output_type": "execute_result"
    }
   ],
   "source": [
    "gini_DTL = DecisionTreeLearner(restaurant, criterion='gini')\n",
    "gini_DTL"
   ]
  },
  {
   "cell_type": "code",
   "execution_count": 6,
   "metadata": {},
   "outputs": [
    {
     "name": "stdout",
     "output_type": "stream",
     "text": [
      "['Yes', 'Yes', 'Yes', 'Yes', 'Yes', 'Yes', 'Yes', 'No', 'Yes', 'Yes']\n"
     ]
    },
    {
     "data": {
      "text/plain": [
       "'Yes'"
      ]
     },
     "execution_count": 6,
     "metadata": {},
     "output_type": "execute_result"
    }
   ],
   "source": [
    "RF = RandomForest(restaurant, n=10, criterion='entropy')\n",
    "RF(['No', 'Yes', 'Yes', 'Yes', 'Full', '$$', 'No', 'No', 'Thai', '10-30'])"
   ]
  },
  {
   "cell_type": "code",
   "execution_count": null,
   "metadata": {},
   "outputs": [],
   "source": []
  }
 ],
 "metadata": {
  "kernelspec": {
   "display_name": "Python 3",
   "language": "python",
   "name": "python3"
  },
  "language_info": {
   "codemirror_mode": {
    "name": "ipython",
    "version": 3
   },
   "file_extension": ".py",
   "mimetype": "text/x-python",
   "name": "python",
   "nbconvert_exporter": "python",
   "pygments_lexer": "ipython3",
   "version": "3.6.9"
  },
  "toc": {
   "base_numbering": 1,
   "nav_menu": {},
   "number_sections": true,
   "sideBar": true,
   "skip_h1_title": false,
   "title_cell": "Table of Contents",
   "title_sidebar": "Contents",
   "toc_cell": false,
   "toc_position": {},
   "toc_section_display": true,
   "toc_window_display": false
  },
  "varInspector": {
   "cols": {
    "lenName": 16,
    "lenType": 16,
    "lenVar": 40
   },
   "kernels_config": {
    "python": {
     "delete_cmd_postfix": "",
     "delete_cmd_prefix": "del ",
     "library": "var_list.py",
     "varRefreshCmd": "print(var_dic_list())"
    },
    "r": {
     "delete_cmd_postfix": ") ",
     "delete_cmd_prefix": "rm(",
     "library": "var_list.r",
     "varRefreshCmd": "cat(var_dic_list()) "
    }
   },
   "types_to_exclude": [
    "module",
    "function",
    "builtin_function_or_method",
    "instance",
    "_Feature"
   ],
   "window_display": false
  }
 },
 "nbformat": 4,
 "nbformat_minor": 2
}
