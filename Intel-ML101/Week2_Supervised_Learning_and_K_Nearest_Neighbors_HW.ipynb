{
 "cells": [
  {
   "cell_type": "markdown",
   "metadata": {},
   "source": [
    "# Supervised Learning and K Nearest Neighbors Exercises"
   ]
  },
  {
   "cell_type": "markdown",
   "metadata": {},
   "source": [
    "## Introduction\n",
    "\n",
    "We will be using customer churn data from the telecom industry for this week's exercises. The data file is called \n",
    "`Orange_Telecom_Churn_Data.csv`. We will load this data together, do some preprocessing, and use K-nearest neighbors to predict customer churn based on account characteristics."
   ]
  },
  {
   "cell_type": "code",
   "execution_count": 1,
   "metadata": {
    "ExecuteTime": {
     "end_time": "2017-03-09T17:11:00.462641Z",
     "start_time": "2017-03-09T12:11:00.457060-05:00"
    }
   },
   "outputs": [],
   "source": [
    "from __future__ import print_function\n",
    "import os\n",
    "data_path = ['data']"
   ]
  },
  {
   "cell_type": "markdown",
   "metadata": {},
   "source": [
    "## Question 1\n",
    "\n",
    "* Begin by importing the data. Examine the columns and data.\n",
    "* Notice that the data contains a state, area code, and phone number. Do you think these are good features to use when building a machine learning model? Why or why not? \n",
    "\n",
    "We will not be using them, so they can be dropped from the data."
   ]
  },
  {
   "cell_type": "code",
   "execution_count": 2,
   "metadata": {
    "ExecuteTime": {
     "end_time": "2017-03-09T17:11:00.913456Z",
     "start_time": "2017-03-09T12:11:00.883452-05:00"
    }
   },
   "outputs": [],
   "source": [
    "import pandas as pd\n",
    "\n",
    "# Import the data using the file path\n",
    "filepath = os.sep.join(data_path + ['Orange_Telecom_Churn_Data.csv'])\n",
    "data = pd.read_csv(filepath)"
   ]
  },
  {
   "cell_type": "code",
   "execution_count": 3,
   "metadata": {
    "ExecuteTime": {
     "end_time": "2017-03-09T17:11:01.087485Z",
     "start_time": "2017-03-09T12:11:01.075442-05:00"
    }
   },
   "outputs": [
    {
     "data": {
      "text/html": [
       "<div>\n",
       "<style scoped>\n",
       "    .dataframe tbody tr th:only-of-type {\n",
       "        vertical-align: middle;\n",
       "    }\n",
       "\n",
       "    .dataframe tbody tr th {\n",
       "        vertical-align: top;\n",
       "    }\n",
       "\n",
       "    .dataframe thead th {\n",
       "        text-align: right;\n",
       "    }\n",
       "</style>\n",
       "<table border=\"1\" class=\"dataframe\">\n",
       "  <thead>\n",
       "    <tr style=\"text-align: right;\">\n",
       "      <th></th>\n",
       "      <th>0</th>\n",
       "      <th>1</th>\n",
       "      <th>2</th>\n",
       "      <th>3</th>\n",
       "      <th>4</th>\n",
       "    </tr>\n",
       "  </thead>\n",
       "  <tbody>\n",
       "    <tr>\n",
       "      <th>state</th>\n",
       "      <td>KS</td>\n",
       "      <td>OH</td>\n",
       "      <td>NJ</td>\n",
       "      <td>OH</td>\n",
       "      <td>OK</td>\n",
       "    </tr>\n",
       "    <tr>\n",
       "      <th>account_length</th>\n",
       "      <td>128</td>\n",
       "      <td>107</td>\n",
       "      <td>137</td>\n",
       "      <td>84</td>\n",
       "      <td>75</td>\n",
       "    </tr>\n",
       "    <tr>\n",
       "      <th>area_code</th>\n",
       "      <td>415</td>\n",
       "      <td>415</td>\n",
       "      <td>415</td>\n",
       "      <td>408</td>\n",
       "      <td>415</td>\n",
       "    </tr>\n",
       "    <tr>\n",
       "      <th>phone_number</th>\n",
       "      <td>382-4657</td>\n",
       "      <td>371-7191</td>\n",
       "      <td>358-1921</td>\n",
       "      <td>375-9999</td>\n",
       "      <td>330-6626</td>\n",
       "    </tr>\n",
       "    <tr>\n",
       "      <th>intl_plan</th>\n",
       "      <td>no</td>\n",
       "      <td>no</td>\n",
       "      <td>no</td>\n",
       "      <td>yes</td>\n",
       "      <td>yes</td>\n",
       "    </tr>\n",
       "    <tr>\n",
       "      <th>voice_mail_plan</th>\n",
       "      <td>yes</td>\n",
       "      <td>yes</td>\n",
       "      <td>no</td>\n",
       "      <td>no</td>\n",
       "      <td>no</td>\n",
       "    </tr>\n",
       "    <tr>\n",
       "      <th>number_vmail_messages</th>\n",
       "      <td>25</td>\n",
       "      <td>26</td>\n",
       "      <td>0</td>\n",
       "      <td>0</td>\n",
       "      <td>0</td>\n",
       "    </tr>\n",
       "    <tr>\n",
       "      <th>total_day_minutes</th>\n",
       "      <td>265.1</td>\n",
       "      <td>161.6</td>\n",
       "      <td>243.4</td>\n",
       "      <td>299.4</td>\n",
       "      <td>166.7</td>\n",
       "    </tr>\n",
       "    <tr>\n",
       "      <th>total_day_calls</th>\n",
       "      <td>110</td>\n",
       "      <td>123</td>\n",
       "      <td>114</td>\n",
       "      <td>71</td>\n",
       "      <td>113</td>\n",
       "    </tr>\n",
       "    <tr>\n",
       "      <th>total_day_charge</th>\n",
       "      <td>45.07</td>\n",
       "      <td>27.47</td>\n",
       "      <td>41.38</td>\n",
       "      <td>50.9</td>\n",
       "      <td>28.34</td>\n",
       "    </tr>\n",
       "    <tr>\n",
       "      <th>total_eve_minutes</th>\n",
       "      <td>197.4</td>\n",
       "      <td>195.5</td>\n",
       "      <td>121.2</td>\n",
       "      <td>61.9</td>\n",
       "      <td>148.3</td>\n",
       "    </tr>\n",
       "    <tr>\n",
       "      <th>total_eve_calls</th>\n",
       "      <td>99</td>\n",
       "      <td>103</td>\n",
       "      <td>110</td>\n",
       "      <td>88</td>\n",
       "      <td>122</td>\n",
       "    </tr>\n",
       "    <tr>\n",
       "      <th>total_eve_charge</th>\n",
       "      <td>16.78</td>\n",
       "      <td>16.62</td>\n",
       "      <td>10.3</td>\n",
       "      <td>5.26</td>\n",
       "      <td>12.61</td>\n",
       "    </tr>\n",
       "    <tr>\n",
       "      <th>total_night_minutes</th>\n",
       "      <td>244.7</td>\n",
       "      <td>254.4</td>\n",
       "      <td>162.6</td>\n",
       "      <td>196.9</td>\n",
       "      <td>186.9</td>\n",
       "    </tr>\n",
       "    <tr>\n",
       "      <th>total_night_calls</th>\n",
       "      <td>91</td>\n",
       "      <td>103</td>\n",
       "      <td>104</td>\n",
       "      <td>89</td>\n",
       "      <td>121</td>\n",
       "    </tr>\n",
       "    <tr>\n",
       "      <th>total_night_charge</th>\n",
       "      <td>11.01</td>\n",
       "      <td>11.45</td>\n",
       "      <td>7.32</td>\n",
       "      <td>8.86</td>\n",
       "      <td>8.41</td>\n",
       "    </tr>\n",
       "    <tr>\n",
       "      <th>total_intl_minutes</th>\n",
       "      <td>10</td>\n",
       "      <td>13.7</td>\n",
       "      <td>12.2</td>\n",
       "      <td>6.6</td>\n",
       "      <td>10.1</td>\n",
       "    </tr>\n",
       "    <tr>\n",
       "      <th>total_intl_calls</th>\n",
       "      <td>3</td>\n",
       "      <td>3</td>\n",
       "      <td>5</td>\n",
       "      <td>7</td>\n",
       "      <td>3</td>\n",
       "    </tr>\n",
       "    <tr>\n",
       "      <th>total_intl_charge</th>\n",
       "      <td>2.7</td>\n",
       "      <td>3.7</td>\n",
       "      <td>3.29</td>\n",
       "      <td>1.78</td>\n",
       "      <td>2.73</td>\n",
       "    </tr>\n",
       "    <tr>\n",
       "      <th>number_customer_service_calls</th>\n",
       "      <td>1</td>\n",
       "      <td>1</td>\n",
       "      <td>0</td>\n",
       "      <td>2</td>\n",
       "      <td>3</td>\n",
       "    </tr>\n",
       "    <tr>\n",
       "      <th>churned</th>\n",
       "      <td>False</td>\n",
       "      <td>False</td>\n",
       "      <td>False</td>\n",
       "      <td>False</td>\n",
       "      <td>False</td>\n",
       "    </tr>\n",
       "  </tbody>\n",
       "</table>\n",
       "</div>"
      ],
      "text/plain": [
       "                                      0         1         2         3  \\\n",
       "state                                KS        OH        NJ        OH   \n",
       "account_length                      128       107       137        84   \n",
       "area_code                           415       415       415       408   \n",
       "phone_number                   382-4657  371-7191  358-1921  375-9999   \n",
       "intl_plan                            no        no        no       yes   \n",
       "voice_mail_plan                     yes       yes        no        no   \n",
       "number_vmail_messages                25        26         0         0   \n",
       "total_day_minutes                 265.1     161.6     243.4     299.4   \n",
       "total_day_calls                     110       123       114        71   \n",
       "total_day_charge                  45.07     27.47     41.38      50.9   \n",
       "total_eve_minutes                 197.4     195.5     121.2      61.9   \n",
       "total_eve_calls                      99       103       110        88   \n",
       "total_eve_charge                  16.78     16.62      10.3      5.26   \n",
       "total_night_minutes               244.7     254.4     162.6     196.9   \n",
       "total_night_calls                    91       103       104        89   \n",
       "total_night_charge                11.01     11.45      7.32      8.86   \n",
       "total_intl_minutes                   10      13.7      12.2       6.6   \n",
       "total_intl_calls                      3         3         5         7   \n",
       "total_intl_charge                   2.7       3.7      3.29      1.78   \n",
       "number_customer_service_calls         1         1         0         2   \n",
       "churned                           False     False     False     False   \n",
       "\n",
       "                                      4  \n",
       "state                                OK  \n",
       "account_length                       75  \n",
       "area_code                           415  \n",
       "phone_number                   330-6626  \n",
       "intl_plan                           yes  \n",
       "voice_mail_plan                      no  \n",
       "number_vmail_messages                 0  \n",
       "total_day_minutes                 166.7  \n",
       "total_day_calls                     113  \n",
       "total_day_charge                  28.34  \n",
       "total_eve_minutes                 148.3  \n",
       "total_eve_calls                     122  \n",
       "total_eve_charge                  12.61  \n",
       "total_night_minutes               186.9  \n",
       "total_night_calls                   121  \n",
       "total_night_charge                 8.41  \n",
       "total_intl_minutes                 10.1  \n",
       "total_intl_calls                      3  \n",
       "total_intl_charge                  2.73  \n",
       "number_customer_service_calls         3  \n",
       "churned                           False  "
      ]
     },
     "execution_count": 3,
     "metadata": {},
     "output_type": "execute_result"
    }
   ],
   "source": [
    "data.head().T"
   ]
  },
  {
   "cell_type": "code",
   "execution_count": 4,
   "metadata": {
    "ExecuteTime": {
     "end_time": "2017-03-09T17:11:01.564122Z",
     "start_time": "2017-03-09T12:11:01.557967-05:00"
    }
   },
   "outputs": [],
   "source": [
    "# Remove extraneous columns\n",
    "data.drop(['state', 'area_code', 'phone_number'], axis=1, inplace=True)"
   ]
  },
  {
   "cell_type": "code",
   "execution_count": 5,
   "metadata": {
    "ExecuteTime": {
     "end_time": "2017-03-09T17:11:02.585712Z",
     "start_time": "2017-03-09T12:11:02.579981-05:00"
    }
   },
   "outputs": [
    {
     "data": {
      "text/plain": [
       "Index(['account_length', 'intl_plan', 'voice_mail_plan',\n",
       "       'number_vmail_messages', 'total_day_minutes', 'total_day_calls',\n",
       "       'total_day_charge', 'total_eve_minutes', 'total_eve_calls',\n",
       "       'total_eve_charge', 'total_night_minutes', 'total_night_calls',\n",
       "       'total_night_charge', 'total_intl_minutes', 'total_intl_calls',\n",
       "       'total_intl_charge', 'number_customer_service_calls', 'churned'],\n",
       "      dtype='object')"
      ]
     },
     "execution_count": 5,
     "metadata": {},
     "output_type": "execute_result"
    }
   ],
   "source": [
    "data.columns"
   ]
  },
  {
   "cell_type": "markdown",
   "metadata": {},
   "source": [
    "## Question 2\n",
    "\n",
    "* Notice that some of the columns are categorical data and some are floats. These features will need to be numerically encoded using one of the methods from the lecture.\n",
    "* Finally, remember from the lecture that K-nearest neighbors requires scaled data. Scale the data using one of the scaling methods discussed in the lecture."
   ]
  },
  {
   "cell_type": "code",
   "execution_count": 6,
   "metadata": {
    "ExecuteTime": {
     "end_time": "2017-03-09T17:11:04.545751Z",
     "start_time": "2017-03-09T12:11:04.509105-05:00"
    }
   },
   "outputs": [],
   "source": [
    "from sklearn.preprocessing import LabelBinarizer\n",
    "\n",
    "lb = LabelBinarizer()\n",
    "\n",
    "for col in ['intl_plan', 'voice_mail_plan', 'churned']:\n",
    "    data[col] = lb.fit_transform(data[col])"
   ]
  },
  {
   "cell_type": "code",
   "execution_count": 7,
   "metadata": {
    "ExecuteTime": {
     "end_time": "2017-03-09T17:11:04.736451Z",
     "start_time": "2017-03-09T12:11:04.718049-05:00"
    }
   },
   "outputs": [],
   "source": [
    "# Mute the sklearn warning\n",
    "import warnings\n",
    "warnings.filterwarnings('ignore', module='sklearn')\n",
    "\n",
    "from sklearn.preprocessing import MinMaxScaler\n",
    "\n",
    "msc = MinMaxScaler()\n",
    "\n",
    "data = pd.DataFrame(msc.fit_transform(data),  # this is an np.array, not a dataframe.\n",
    "                    columns=data.columns)"
   ]
  },
  {
   "cell_type": "markdown",
   "metadata": {},
   "source": [
    "## Question 3\n",
    "\n",
    "* Separate the feature columns (everything except `churned`) from the label (`churned`). This will create two tables.\n",
    "* Fit a K-nearest neighbors model with a value of `k=3` to this data and predict the outcome on the same data."
   ]
  },
  {
   "cell_type": "code",
   "execution_count": 8,
   "metadata": {
    "ExecuteTime": {
     "end_time": "2017-03-09T17:11:50.280188Z",
     "start_time": "2017-03-09T12:11:50.269326-05:00"
    }
   },
   "outputs": [],
   "source": [
    "# Get a list of all the columns that don't contain the label\n",
    "x_cols = [x for x in data.columns if x != 'churned']\n",
    "\n",
    "# Split the data into two dataframes\n",
    "X_data = data[x_cols]\n",
    "y_data = data['churned']\n",
    "\n",
    "# # alternatively:\n",
    "# X_data = data.copy()\n",
    "# y_data = X_data.pop('churned')"
   ]
  },
  {
   "cell_type": "code",
   "execution_count": 9,
   "metadata": {
    "ExecuteTime": {
     "end_time": "2017-03-09T17:11:50.989446Z",
     "start_time": "2017-03-09T12:11:50.498708-05:00"
    }
   },
   "outputs": [],
   "source": [
    "from sklearn.neighbors import KNeighborsClassifier\n",
    "\n",
    "knn = KNeighborsClassifier(n_neighbors=3)\n",
    "\n",
    "knn = knn.fit(X_data, y_data)\n",
    "\n",
    "y_pred = knn.predict(X_data)"
   ]
  },
  {
   "cell_type": "markdown",
   "metadata": {},
   "source": [
    "## Question 4\n",
    "\n",
    "Ways to measure error haven't been discussed in class yet, but accuracy is an easy one to understand--it is simply the percent of labels that were correctly predicted (either true or false). \n",
    "\n",
    "* Write a function to calculate accuracy using the actual and predicted labels.\n",
    "* Using the function, calculate the accuracy of this K-nearest neighbors model on the data."
   ]
  },
  {
   "cell_type": "code",
   "execution_count": 10,
   "metadata": {
    "ExecuteTime": {
     "end_time": "2017-03-09T17:11:50.997204Z",
     "start_time": "2017-03-09T12:11:50.991392-05:00"
    }
   },
   "outputs": [],
   "source": [
    "# Function to calculate the % of values that were correctly predicted\n",
    "\n",
    "def accuracy(real, predict):\n",
    "    return sum(real == predict) / float(real.shape[0])"
   ]
  },
  {
   "cell_type": "code",
   "execution_count": 11,
   "metadata": {
    "ExecuteTime": {
     "end_time": "2017-03-09T17:11:51.128466Z",
     "start_time": "2017-03-09T12:11:51.115874-05:00"
    }
   },
   "outputs": [
    {
     "name": "stdout",
     "output_type": "stream",
     "text": [
      "0.9422\n"
     ]
    }
   ],
   "source": [
    "print(accuracy(y_data, y_pred))"
   ]
  },
  {
   "cell_type": "markdown",
   "metadata": {},
   "source": [
    "## Question 5\n",
    "\n",
    "* Fit the K-nearest neighbors model again with `n_neighbors=3` but this time use distance for the weights. Calculate the accuracy using the function you created above. \n",
    "* Fit another K-nearest neighbors model. This time use uniform weights but set the power parameter for the Minkowski distance metric to be 1 (`p=1`) i.e. Manhattan Distance.\n",
    "\n",
    "When weighted distances are used for part 1 of this question, a value of 1.0 should be returned for the accuracy. Why do you think this is? *Hint:* we are predicting on the data and with KNN the model *is* the data. We will learn how to avoid this pitfall in the next lecture."
   ]
  },
  {
   "cell_type": "code",
   "execution_count": 12,
   "metadata": {
    "ExecuteTime": {
     "end_time": "2017-03-09T17:11:52.047123Z",
     "start_time": "2017-03-09T12:11:51.538212-05:00"
    }
   },
   "outputs": [
    {
     "name": "stdout",
     "output_type": "stream",
     "text": [
      "1.0\n"
     ]
    }
   ],
   "source": [
    "#Student writes code here\n",
    "#from sklearn.neighbors import KNeighborsClassifier\n",
    "\n",
    "knn = KNeighborsClassifier(n_neighbors=3, weights = 'distance')\n",
    "\n",
    "knn = knn.fit(X_data, y_data)\n",
    "\n",
    "y_pred = knn.predict(X_data)\n",
    "print(accuracy(y_data, y_pred))"
   ]
  },
  {
   "cell_type": "code",
   "execution_count": 13,
   "metadata": {
    "ExecuteTime": {
     "end_time": "2017-03-09T17:11:52.755941Z",
     "start_time": "2017-03-09T12:11:52.049816-05:00"
    }
   },
   "outputs": [
    {
     "name": "stdout",
     "output_type": "stream",
     "text": [
      "0.9456\n"
     ]
    }
   ],
   "source": [
    "#from sklearn.neighbors import KNeighborsClassifier\n",
    "\n",
    "knn = KNeighborsClassifier(n_neighbors=3, weights = 'uniform', p=1, metric='minkowski')\n",
    "\n",
    "knn = knn.fit(X_data, y_data)\n",
    "\n",
    "y_pred = knn.predict(X_data)\n",
    "print(accuracy(y_data, y_pred))"
   ]
  },
  {
   "cell_type": "markdown",
   "metadata": {},
   "source": [
    "## Question 6\n",
    "\n",
    "* Fit a K-nearest neighbors model using values of `k` (`n_neighbors`) ranging from 1 to 20. Use uniform weights (the default). The coefficient for the Minkowski distance (`p`) can be set to either 1 or 2--just be consistent. Store the accuracy and the value of `k` used from each of these fits in a list or dictionary.\n",
    "* Plot (or view the table of) the `accuracy` vs `k`. What do you notice happens when `k=1`? Why do you think this is? *Hint:* it's for the same reason discussed above."
   ]
  },
  {
   "cell_type": "code",
   "execution_count": 14,
   "metadata": {
    "ExecuteTime": {
     "end_time": "2017-03-09T17:12:01.329053Z",
     "start_time": "2017-03-09T12:11:52.759302-05:00"
    }
   },
   "outputs": [],
   "source": [
    "#Student writes code here\n",
    "results = {}\n",
    "for k in range(1, 21):\n",
    "    knn = KNeighborsClassifier(n_neighbors=k, weights = 'uniform', p=1, metric='minkowski')\n",
    "    knn = knn.fit(X_data, y_data)\n",
    "    y_pred = knn.predict(X_data)\n",
    "    results[k] = accuracy(y_data, y_pred)"
   ]
  },
  {
   "cell_type": "code",
   "execution_count": 15,
   "metadata": {
    "ExecuteTime": {
     "end_time": "2017-03-09T17:12:01.829160Z",
     "start_time": "2017-03-09T12:12:01.331021-05:00"
    }
   },
   "outputs": [
    {
     "data": {
      "text/html": [
       "<div>\n",
       "<style scoped>\n",
       "    .dataframe tbody tr th:only-of-type {\n",
       "        vertical-align: middle;\n",
       "    }\n",
       "\n",
       "    .dataframe tbody tr th {\n",
       "        vertical-align: top;\n",
       "    }\n",
       "\n",
       "    .dataframe thead th {\n",
       "        text-align: right;\n",
       "    }\n",
       "</style>\n",
       "<table border=\"1\" class=\"dataframe\">\n",
       "  <thead>\n",
       "    <tr style=\"text-align: right;\">\n",
       "      <th></th>\n",
       "      <th>Accuracy</th>\n",
       "    </tr>\n",
       "  </thead>\n",
       "  <tbody>\n",
       "    <tr>\n",
       "      <th>1</th>\n",
       "      <td>1.0000</td>\n",
       "    </tr>\n",
       "    <tr>\n",
       "      <th>2</th>\n",
       "      <td>0.9286</td>\n",
       "    </tr>\n",
       "    <tr>\n",
       "      <th>3</th>\n",
       "      <td>0.9456</td>\n",
       "    </tr>\n",
       "    <tr>\n",
       "      <th>4</th>\n",
       "      <td>0.9214</td>\n",
       "    </tr>\n",
       "    <tr>\n",
       "      <th>5</th>\n",
       "      <td>0.9356</td>\n",
       "    </tr>\n",
       "    <tr>\n",
       "      <th>6</th>\n",
       "      <td>0.9216</td>\n",
       "    </tr>\n",
       "    <tr>\n",
       "      <th>7</th>\n",
       "      <td>0.9290</td>\n",
       "    </tr>\n",
       "    <tr>\n",
       "      <th>8</th>\n",
       "      <td>0.9170</td>\n",
       "    </tr>\n",
       "    <tr>\n",
       "      <th>9</th>\n",
       "      <td>0.9256</td>\n",
       "    </tr>\n",
       "    <tr>\n",
       "      <th>10</th>\n",
       "      <td>0.9126</td>\n",
       "    </tr>\n",
       "    <tr>\n",
       "      <th>11</th>\n",
       "      <td>0.9210</td>\n",
       "    </tr>\n",
       "    <tr>\n",
       "      <th>12</th>\n",
       "      <td>0.9124</td>\n",
       "    </tr>\n",
       "    <tr>\n",
       "      <th>13</th>\n",
       "      <td>0.9178</td>\n",
       "    </tr>\n",
       "    <tr>\n",
       "      <th>14</th>\n",
       "      <td>0.9096</td>\n",
       "    </tr>\n",
       "    <tr>\n",
       "      <th>15</th>\n",
       "      <td>0.9146</td>\n",
       "    </tr>\n",
       "    <tr>\n",
       "      <th>16</th>\n",
       "      <td>0.9074</td>\n",
       "    </tr>\n",
       "    <tr>\n",
       "      <th>17</th>\n",
       "      <td>0.9126</td>\n",
       "    </tr>\n",
       "    <tr>\n",
       "      <th>18</th>\n",
       "      <td>0.9054</td>\n",
       "    </tr>\n",
       "    <tr>\n",
       "      <th>19</th>\n",
       "      <td>0.9104</td>\n",
       "    </tr>\n",
       "    <tr>\n",
       "      <th>20</th>\n",
       "      <td>0.9022</td>\n",
       "    </tr>\n",
       "  </tbody>\n",
       "</table>\n",
       "</div>"
      ],
      "text/plain": [
       "    Accuracy\n",
       "1     1.0000\n",
       "2     0.9286\n",
       "3     0.9456\n",
       "4     0.9214\n",
       "5     0.9356\n",
       "6     0.9216\n",
       "7     0.9290\n",
       "8     0.9170\n",
       "9     0.9256\n",
       "10    0.9126\n",
       "11    0.9210\n",
       "12    0.9124\n",
       "13    0.9178\n",
       "14    0.9096\n",
       "15    0.9146\n",
       "16    0.9074\n",
       "17    0.9126\n",
       "18    0.9054\n",
       "19    0.9104\n",
       "20    0.9022"
      ]
     },
     "execution_count": 15,
     "metadata": {},
     "output_type": "execute_result"
    }
   ],
   "source": [
    "results = pd.Series(results)\n",
    "results.to_frame(name='Accuracy')"
   ]
  },
  {
   "cell_type": "code",
   "execution_count": 16,
   "metadata": {
    "ExecuteTime": {
     "end_time": "2017-03-09T17:12:02.238935Z",
     "start_time": "2017-03-09T12:12:01.831094-05:00"
    }
   },
   "outputs": [
    {
     "data": {
      "image/png": "[encoded data removed]",
      "text/plain": [
       "<Figure size 432x288 with 1 Axes>"
      ]
     },
     "metadata": {},
     "output_type": "display_data"
    }
   ],
   "source": [
    "%matplotlib inline\n",
    "ax = results.plot.bar()\n",
    "\n",
    "#Label the axes\n",
    "ax.set(xlabel='k=n_neighbours',\n",
    "       ylabel='Accuracy',\n",
    "       ybound=(0.9,1),\n",
    "       title='Accuracy of k-Class classification (weights=\\'uniform\\', p=1)');"
   ]
  }
 ],
 "metadata": {
  "anaconda-cloud": {},
  "kernelspec": {
   "display_name": "Python 3",
   "language": "python",
   "name": "python3"
  },
  "language_info": {
   "codemirror_mode": {
    "name": "ipython",
    "version": 3
   },
   "file_extension": ".py",
   "mimetype": "text/x-python",
   "name": "python",
   "nbconvert_exporter": "python",
   "pygments_lexer": "ipython3",
   "version": "3.6.7"
  },
  "name": "Linear_Regression_and_K_Nearest_Neighbors_Exercises-ANSWERS",
  "notebookId": 2125319687183902,
  "toc": {
   "base_numbering": 1,
   "nav_menu": {},
   "number_sections": true,
   "sideBar": true,
   "skip_h1_title": false,
   "title_cell": "Table of Contents",
   "title_sidebar": "Contents",
   "toc_cell": false,
   "toc_position": {},
   "toc_section_display": true,
   "toc_window_display": false
  },
  "varInspector": {
   "cols": {
    "lenName": 16,
    "lenType": 16,
    "lenVar": 40
   },
   "kernels_config": {
    "python": {
     "delete_cmd_postfix": "",
     "delete_cmd_prefix": "del ",
     "library": "var_list.py",
     "varRefreshCmd": "print(var_dic_list())"
    },
    "r": {
     "delete_cmd_postfix": ") ",
     "delete_cmd_prefix": "rm(",
     "library": "var_list.r",
     "varRefreshCmd": "cat(var_dic_list()) "
    }
   },
   "types_to_exclude": [
    "module",
    "function",
    "builtin_function_or_method",
    "instance",
    "_Feature"
   ],
   "window_display": false
  }
 },
 "nbformat": 4,
 "nbformat_minor": 1
}
