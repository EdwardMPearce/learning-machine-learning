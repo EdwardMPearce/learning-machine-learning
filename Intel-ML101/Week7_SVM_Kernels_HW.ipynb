{
 "cells": [
  {
   "cell_type": "markdown",
   "metadata": {},
   "source": [
    "# Support Vector Machines and Kernels"
   ]
  },
  {
   "cell_type": "markdown",
   "metadata": {},
   "source": [
    "## Introduction\n",
    "\n",
    "We will be using the wine quality data set for these exercises. This data set contains various chemical properties of wine, such as acidity, sugar, pH, and alcohol. It also contains a quality metric (3-9, with highest being better) and a color (red or white). The name of the file is `Wine_Quality_Data.csv`."
   ]
  },
  {
   "cell_type": "code",
   "execution_count": 1,
   "metadata": {
    "ExecuteTime": {
     "end_time": "2017-04-10T00:04:57.164238Z",
     "start_time": "2017-04-09T20:04:57.158472-04:00"
    }
   },
   "outputs": [],
   "source": [
    "from __future__ import print_function\n",
    "import os\n",
    "#Please set the path below as per your system data folder location\n",
    "#data_path = ['..', 'data']\n",
    "data_path = ['data']"
   ]
  },
  {
   "cell_type": "markdown",
   "metadata": {},
   "source": [
    "## Question 1\n",
    "\n",
    "* Import the data.\n",
    "* Create the target variable `y` as a 1/0 column where 1 means red.\n",
    "* Create a `pairplot` for the dataset.\n",
    "* Create a bar plot showing the correlations between each column and `y`\n",
    "* Pick the most 2 correlated fields (using the absolute value of correlations) and create `X`\n",
    "* Use MinMaxScaler to scale `X`. Note that this will output a np.array. Make it a DataFrame again and rename the columns appropriately."
   ]
  },
  {
   "cell_type": "code",
   "execution_count": 2,
   "metadata": {
    "ExecuteTime": {
     "end_time": "2017-04-10T00:04:57.731417Z",
     "start_time": "2017-04-09T20:04:57.168224-04:00"
    }
   },
   "outputs": [],
   "source": [
    "import pandas as pd\n",
    "import numpy as np\n",
    "\n",
    "filepath = os.sep.join(data_path + ['Wine_Quality_Data.csv'])\n",
    "data = pd.read_csv(filepath, sep=',')"
   ]
  },
  {
   "cell_type": "code",
   "execution_count": 5,
   "metadata": {},
   "outputs": [
    {
     "data": {
      "text/html": [
       "<div>\n",
       "<style scoped>\n",
       "    .dataframe tbody tr th:only-of-type {\n",
       "        vertical-align: middle;\n",
       "    }\n",
       "\n",
       "    .dataframe tbody tr th {\n",
       "        vertical-align: top;\n",
       "    }\n",
       "\n",
       "    .dataframe thead th {\n",
       "        text-align: right;\n",
       "    }\n",
       "</style>\n",
       "<table border=\"1\" class=\"dataframe\">\n",
       "  <thead>\n",
       "    <tr style=\"text-align: right;\">\n",
       "      <th></th>\n",
       "      <th>fixed_acidity</th>\n",
       "      <th>volatile_acidity</th>\n",
       "      <th>citric_acid</th>\n",
       "      <th>residual_sugar</th>\n",
       "      <th>chlorides</th>\n",
       "      <th>free_sulfur_dioxide</th>\n",
       "      <th>total_sulfur_dioxide</th>\n",
       "      <th>density</th>\n",
       "      <th>pH</th>\n",
       "      <th>sulphates</th>\n",
       "      <th>alcohol</th>\n",
       "      <th>quality</th>\n",
       "    </tr>\n",
       "  </thead>\n",
       "  <tbody>\n",
       "    <tr>\n",
       "      <th>count</th>\n",
       "      <td>6497.000</td>\n",
       "      <td>6497.000</td>\n",
       "      <td>6497.000</td>\n",
       "      <td>6497.000</td>\n",
       "      <td>6497.000</td>\n",
       "      <td>6497.000</td>\n",
       "      <td>6497.000</td>\n",
       "      <td>6497.000</td>\n",
       "      <td>6497.000</td>\n",
       "      <td>6497.000</td>\n",
       "      <td>6497.000</td>\n",
       "      <td>6497.000</td>\n",
       "    </tr>\n",
       "    <tr>\n",
       "      <th>mean</th>\n",
       "      <td>7.215</td>\n",
       "      <td>0.340</td>\n",
       "      <td>0.319</td>\n",
       "      <td>5.443</td>\n",
       "      <td>0.056</td>\n",
       "      <td>30.525</td>\n",
       "      <td>115.745</td>\n",
       "      <td>0.995</td>\n",
       "      <td>3.219</td>\n",
       "      <td>0.531</td>\n",
       "      <td>10.492</td>\n",
       "      <td>5.818</td>\n",
       "    </tr>\n",
       "    <tr>\n",
       "      <th>std</th>\n",
       "      <td>1.296</td>\n",
       "      <td>0.165</td>\n",
       "      <td>0.145</td>\n",
       "      <td>4.758</td>\n",
       "      <td>0.035</td>\n",
       "      <td>17.749</td>\n",
       "      <td>56.522</td>\n",
       "      <td>0.003</td>\n",
       "      <td>0.161</td>\n",
       "      <td>0.149</td>\n",
       "      <td>1.193</td>\n",
       "      <td>0.873</td>\n",
       "    </tr>\n",
       "    <tr>\n",
       "      <th>min</th>\n",
       "      <td>3.800</td>\n",
       "      <td>0.080</td>\n",
       "      <td>0.000</td>\n",
       "      <td>0.600</td>\n",
       "      <td>0.009</td>\n",
       "      <td>1.000</td>\n",
       "      <td>6.000</td>\n",
       "      <td>0.987</td>\n",
       "      <td>2.720</td>\n",
       "      <td>0.220</td>\n",
       "      <td>8.000</td>\n",
       "      <td>3.000</td>\n",
       "    </tr>\n",
       "    <tr>\n",
       "      <th>25%</th>\n",
       "      <td>6.400</td>\n",
       "      <td>0.230</td>\n",
       "      <td>0.250</td>\n",
       "      <td>1.800</td>\n",
       "      <td>0.038</td>\n",
       "      <td>17.000</td>\n",
       "      <td>77.000</td>\n",
       "      <td>0.992</td>\n",
       "      <td>3.110</td>\n",
       "      <td>0.430</td>\n",
       "      <td>9.500</td>\n",
       "      <td>5.000</td>\n",
       "    </tr>\n",
       "    <tr>\n",
       "      <th>50%</th>\n",
       "      <td>7.000</td>\n",
       "      <td>0.290</td>\n",
       "      <td>0.310</td>\n",
       "      <td>3.000</td>\n",
       "      <td>0.047</td>\n",
       "      <td>29.000</td>\n",
       "      <td>118.000</td>\n",
       "      <td>0.995</td>\n",
       "      <td>3.210</td>\n",
       "      <td>0.510</td>\n",
       "      <td>10.300</td>\n",
       "      <td>6.000</td>\n",
       "    </tr>\n",
       "    <tr>\n",
       "      <th>75%</th>\n",
       "      <td>7.700</td>\n",
       "      <td>0.400</td>\n",
       "      <td>0.390</td>\n",
       "      <td>8.100</td>\n",
       "      <td>0.065</td>\n",
       "      <td>41.000</td>\n",
       "      <td>156.000</td>\n",
       "      <td>0.997</td>\n",
       "      <td>3.320</td>\n",
       "      <td>0.600</td>\n",
       "      <td>11.300</td>\n",
       "      <td>6.000</td>\n",
       "    </tr>\n",
       "    <tr>\n",
       "      <th>max</th>\n",
       "      <td>15.900</td>\n",
       "      <td>1.580</td>\n",
       "      <td>1.660</td>\n",
       "      <td>65.800</td>\n",
       "      <td>0.611</td>\n",
       "      <td>289.000</td>\n",
       "      <td>440.000</td>\n",
       "      <td>1.039</td>\n",
       "      <td>4.010</td>\n",
       "      <td>2.000</td>\n",
       "      <td>14.900</td>\n",
       "      <td>9.000</td>\n",
       "    </tr>\n",
       "  </tbody>\n",
       "</table>\n",
       "</div>"
      ],
      "text/plain": [
       "       fixed_acidity  volatile_acidity  citric_acid  residual_sugar  \\\n",
       "count       6497.000          6497.000     6497.000        6497.000   \n",
       "mean           7.215             0.340        0.319           5.443   \n",
       "std            1.296             0.165        0.145           4.758   \n",
       "min            3.800             0.080        0.000           0.600   \n",
       "25%            6.400             0.230        0.250           1.800   \n",
       "50%            7.000             0.290        0.310           3.000   \n",
       "75%            7.700             0.400        0.390           8.100   \n",
       "max           15.900             1.580        1.660          65.800   \n",
       "\n",
       "       chlorides  free_sulfur_dioxide  total_sulfur_dioxide   density  \\\n",
       "count   6497.000             6497.000              6497.000  6497.000   \n",
       "mean       0.056               30.525               115.745     0.995   \n",
       "std        0.035               17.749                56.522     0.003   \n",
       "min        0.009                1.000                 6.000     0.987   \n",
       "25%        0.038               17.000                77.000     0.992   \n",
       "50%        0.047               29.000               118.000     0.995   \n",
       "75%        0.065               41.000               156.000     0.997   \n",
       "max        0.611              289.000               440.000     1.039   \n",
       "\n",
       "             pH  sulphates   alcohol   quality  \n",
       "count  6497.000   6497.000  6497.000  6497.000  \n",
       "mean      3.219      0.531    10.492     5.818  \n",
       "std       0.161      0.149     1.193     0.873  \n",
       "min       2.720      0.220     8.000     3.000  \n",
       "25%       3.110      0.430     9.500     5.000  \n",
       "50%       3.210      0.510    10.300     6.000  \n",
       "75%       3.320      0.600    11.300     6.000  \n",
       "max       4.010      2.000    14.900     9.000  "
      ]
     },
     "execution_count": 5,
     "metadata": {},
     "output_type": "execute_result"
    }
   ],
   "source": [
    "data.describe().applymap(lambda x: round(x,3))"
   ]
  },
  {
   "cell_type": "code",
   "execution_count": 7,
   "metadata": {
    "ExecuteTime": {
     "end_time": "2017-04-10T00:04:57.769148Z",
     "start_time": "2017-04-09T20:04:57.734768-04:00"
    }
   },
   "outputs": [
    {
     "data": {
      "text/plain": [
       "total_sulfur_dioxide   -0.700357\n",
       "free_sulfur_dioxide    -0.471644\n",
       "residual_sugar         -0.348821\n",
       "citric_acid            -0.187397\n",
       "quality                -0.119323\n",
       "alcohol                -0.032970\n",
       "pH                      0.329129\n",
       "density                 0.390645\n",
       "fixed_acidity           0.486740\n",
       "sulphates               0.487218\n",
       "chlorides               0.512678\n",
       "volatile_acidity        0.653036\n",
       "dtype: float64"
      ]
     },
     "execution_count": 7,
     "metadata": {},
     "output_type": "execute_result"
    }
   ],
   "source": [
    "y = (data['color'] == 'red').astype(int) # Due to the data structure, 1 = red, 0 = white\n",
    "fields = list(data.columns[:-1])  # The remaining column names, besides the last column \"color\"\n",
    "correlations = data[fields].corrwith(y)\n",
    "correlations.sort_values(inplace=True)\n",
    "correlations"
   ]
  },
  {
   "cell_type": "code",
   "execution_count": null,
   "metadata": {
    "collapsed": true
   },
   "outputs": [],
   "source": [
    "import matplotlib.pyplot as plt\n",
    "import seaborn as sns\n",
    "%matplotlib inline\n",
    "\n",
    "sns.set_context('talk')\n",
    "sns.set_palette('dark')\n",
    "sns.set_style('white')"
   ]
  },
  {
   "cell_type": "code",
   "execution_count": null,
   "metadata": {},
   "outputs": [],
   "source": [
    "sns.pairplot(data, hue='color')"
   ]
  },
  {
   "cell_type": "code",
   "execution_count": null,
   "metadata": {},
   "outputs": [],
   "source": [
    "ax = correlations.plot(kind='bar')\n",
    "ax.set(ylim=[-1, 1], ylabel='pearson correlation');"
   ]
  },
  {
   "cell_type": "code",
   "execution_count": null,
   "metadata": {},
   "outputs": [],
   "source": [
    "from sklearn.preprocessing import MinMaxScaler\n",
    "\n",
    "fields = correlations.map(abs).sort_values().iloc[-2:].index\n",
    "print(fields)\n",
    "X = data[fields]\n",
    "scaler = MinMaxScaler()\n",
    "X = scaler.fit_transform(X)\n",
    "X = pd.DataFrame(X, columns=['%s_scaled' % fld for fld in fields])\n",
    "print(X.columns)"
   ]
  },
  {
   "cell_type": "markdown",
   "metadata": {},
   "source": [
    "## Question 2\n",
    "\n",
    "The goal for this question is to look at the decision boundary of a LinearSVC classifier on this dataset. Check out [this example](http://scikit-learn.org/stable/auto_examples/svm/plot_iris.html#sphx-glr-auto-examples-svm-plot-iris-py) in sklearn's documentation. \n",
    "\n",
    "* Fit a Linear Support Vector Machine Classifier to `X`, `y`.\n",
    "* Pick 300 samples from `X`. Get the corresponding `y` value. Store them in variables `X_color` and `y_color`. This is because original dataset is too large and it produces a crowded plot.\n",
    "* Modify `y_color` so that it has the value \"red\" instead of 1 and 'yellow' instead of 0.\n",
    "* Scatter plot X_color's columns. Use the keyword argument \"color=y_color\" to color code samples.\n",
    "* Use the code snippet below to plot the decision surface in a color coded way.\n",
    "\n",
    "```python\n",
    "x_axis, y_axis = np.arange(0, 1, .005), np.arange(0, 1, .005)\n",
    "xx, yy = np.meshgrid(x_axis, y_axis)\n",
    "xx_ravel = xx.ravel()\n",
    "yy_ravel = yy.ravel()\n",
    "X_grid = pd.DataFrame([xx_ravel, yy_ravel]).T\n",
    "y_grid_predictions = *[YOUR MODEL]*.predict(X_grid)\n",
    "y_grid_predictions = y_grid_predictions.reshape(xx.shape)\n",
    "ax.contourf(xx, yy, y_grid_predictions, cmap=plt.cm.autumn_r, alpha=.3)\n",
    "```\n",
    "\n",
    "Feel free to experiment with different parameter choices for LinearSVC and see the decision boundary."
   ]
  },
  {
   "cell_type": "code",
   "execution_count": null,
   "metadata": {},
   "outputs": [],
   "source": [
    "from sklearn.svm import LinearSVC\n",
    "\n",
    "LSVC = LinearSVC()\n",
    "LSVC.fit(X, y)\n",
    "\n",
    "X_color = X.sample(300, random_state=45)\n",
    "y_color = y.loc[X_color.index]\n",
    "y_color = y_color.map(lambda r: 'red' if r == 1 else 'yellow')\n",
    "ax = plt.axes()\n",
    "ax.scatter(\n",
    "    X_color.iloc[:, 0], X_color.iloc[:, 1],\n",
    "    color=y_color, alpha=1)\n",
    "# -----------\n",
    "x_axis, y_axis = np.arange(0, 1.005, .005), np.arange(0, 1.005, .005)\n",
    "xx, yy = np.meshgrid(x_axis, y_axis)\n",
    "xx_ravel = xx.ravel()\n",
    "yy_ravel = yy.ravel()\n",
    "X_grid = pd.DataFrame([xx_ravel, yy_ravel]).T\n",
    "y_grid_predictions = LSVC.predict(X_grid)\n",
    "y_grid_predictions = y_grid_predictions.reshape(xx.shape)\n",
    "ax.contourf(xx, yy, y_grid_predictions, cmap=plt.cm.autumn_r, alpha=.3)\n",
    "# -----------\n",
    "ax.set(\n",
    "    xlabel=fields[0],\n",
    "    ylabel=fields[1],\n",
    "    xlim=[0, 1],\n",
    "    ylim=[0, 1],\n",
    "    title='decision boundary for LinearSVC');"
   ]
  },
  {
   "cell_type": "markdown",
   "metadata": {},
   "source": [
    "## Question 3\n",
    "\n",
    "Let's now fit a Gaussian kernel SVC and see how the decision boundary changes.\n",
    "\n",
    "* Consolidate the code snippets in Question 2 into one function which takes in an estimator, `X` and `y`, and produces the final plot with decision boundary. The steps are:\n",
    "    <ol>\n",
    "     <li> fit model\n",
    "     <li> get sample 300 records from X and the corresponding y's\n",
    "     <li> create grid, predict, plot using ax.contourf\n",
    "     <li> add on the scatter plot\n",
    "    </ol>\n",
    "* After copying and pasting code, make sure the finished function uses your input `estimator` and not the LinearSVC model you built.\n",
    "* For the following values of `gamma`, create a Gaussian Kernel SVC and plot the decision boundary.  \n",
    "`gammas = [.5, 1, 2, 10]`\n",
    "* Holding `gamma` constant, for various values of `C`, plot the decision boundary. You may try  \n",
    "`Cs = [.1, 1, 10]`"
   ]
  },
  {
   "cell_type": "code",
   "execution_count": null,
   "metadata": {
    "collapsed": true
   },
   "outputs": [],
   "source": [
    "def plot_decision_boundary(estimator, X, y):\n",
    "    estimator.fit(X, y)\n",
    "    X_color = X.sample(300)\n",
    "    y_color = y.loc[X_color.index]\n",
    "    y_color = y_color.map(lambda r: 'red' if r == 1 else 'yellow')\n",
    "    x_axis, y_axis = np.arange(0, 1, .005), np.arange(0, 1, .005)\n",
    "    xx, yy = np.meshgrid(x_axis, y_axis)\n",
    "    xx_ravel = xx.ravel()\n",
    "    yy_ravel = yy.ravel()\n",
    "    X_grid = pd.DataFrame([xx_ravel, yy_ravel]).T\n",
    "    y_grid_predictions = estimator.predict(X_grid)\n",
    "    y_grid_predictions = y_grid_predictions.reshape(xx.shape)\n",
    "\n",
    "    fig, ax = plt.subplots(figsize=(10, 10))\n",
    "    ax.contourf(xx, yy, y_grid_predictions, cmap=plt.cm.autumn_r, alpha=.3)\n",
    "    ax.scatter(X_color.iloc[:, 0], X_color.iloc[:, 1], color=y_color, alpha=1)\n",
    "    ax.set(\n",
    "        xlabel=fields[0],\n",
    "        ylabel=fields[1],\n",
    "        title=str(estimator))"
   ]
  },
  {
   "cell_type": "code",
   "execution_count": null,
   "metadata": {
    "scrolled": false
   },
   "outputs": [],
   "source": [
    "from sklearn.svm import SVC\n",
    "\n",
    "gammas = [.5, 1, 2, 10]\n",
    "for gamma in gammas:\n",
    "    SVC_Gaussian = SVC(kernel='rbf', gamma=gamma)\n",
    "    plot_decision_boundary(SVC_Gaussian, X, y)"
   ]
  },
  {
   "cell_type": "code",
   "execution_count": null,
   "metadata": {},
   "outputs": [],
   "source": [
    "Cs = [.1, 1, 10]\n",
    "for C in Cs:\n",
    "    SVC_Gaussian = SVC(kernel='rbf', gamma=2, C=C)\n",
    "    plot_decision_boundary(SVC_Gaussian, X, y)"
   ]
  },
  {
   "cell_type": "markdown",
   "metadata": {},
   "source": [
    "## Question 3A\n",
    "\n",
    "Let's now fit a Polynomial kernel SVC with degree 3 and see how the decision boundary changes.\n",
    "\n",
    "* Use the plot decision boundary function from the previous question and try the Polynomial Kernel SVC\n",
    "* For various values of `C`, plot the decision boundary. You may try  \n",
    "`Cs = [10,20,100,200]`\n",
    "* Try to find out a C value that gives the best possible decision boundary"
   ]
  },
  {
   "cell_type": "code",
   "execution_count": null,
   "metadata": {
    "collapsed": true
   },
   "outputs": [],
   "source": [
    "# Try with Polynomial kernel SVC\n"
   ]
  },
  {
   "cell_type": "markdown",
   "metadata": {
    "collapsed": true
   },
   "source": [
    "## Question 4\n",
    "\n",
    "In this question, we will compare the fitting times between SVC vs Nystroem with rbf kernel.  \n",
    "<br><br>\n",
    "Jupyter Notebooks provide a useful magic function **`%timeit`** which executes a line and prints out the time it took to fit. If you type **`%%timeit`** in the beginning of the cell, then it will run the whole cell and output the running time.\n",
    "\n",
    "* Re-load the wine quality data if you made changes to the original.\n",
    "* Create `y` from data.color, and `X` from the rest of the columns.\n",
    "* Use `%%timeit` to get the time for fitting an SVC with rbf kernel.\n",
    "* Use `%%timeit` to get the time for the following: fit_transform the data with Nystroem and then fit a SGDClassifier.\n",
    "\n",
    "Nystroem+SGD will take much shorter to fit. This difference will be more pronounced if the dataset was bigger.\n",
    "\n",
    "* Make 5 copies of X and concatenate them\n",
    "* Make 5 copies of y and concatenate them\n",
    "* Compare the time it takes to fit the both methods above"
   ]
  },
  {
   "cell_type": "code",
   "execution_count": null,
   "metadata": {},
   "outputs": [],
   "source": [
    "from sklearn.kernel_approximation import Nystroem\n",
    "from sklearn.svm import SVC\n",
    "from sklearn.linear_model import SGDClassifier\n",
    "\n",
    "y = data.color == 'red'\n",
    "X = data[data.columns[:-1]]\n",
    "\n",
    "kwargs = {'kernel': 'rbf'}\n",
    "svc = SVC(**kwargs)\n",
    "nystroem = Nystroem(**kwargs)\n",
    "sgd = SGDClassifier()"
   ]
  },
  {
   "cell_type": "code",
   "execution_count": null,
   "metadata": {},
   "outputs": [],
   "source": [
    "%%timeit\n",
    "svc.fit(X, y)"
   ]
  },
  {
   "cell_type": "code",
   "execution_count": null,
   "metadata": {},
   "outputs": [],
   "source": [
    "%%timeit\n",
    "X_transformed = nystroem.fit_transform(X)\n",
    "sgd.fit(X_transformed, y)"
   ]
  },
  {
   "cell_type": "code",
   "execution_count": null,
   "metadata": {},
   "outputs": [],
   "source": [
    "X2 = pd.concat([X]*5)\n",
    "y2 = pd.concat([y]*5)\n",
    "\n",
    "print(X2.shape)\n",
    "print(y2.shape)"
   ]
  },
  {
   "cell_type": "code",
   "execution_count": null,
   "metadata": {},
   "outputs": [],
   "source": [
    "%timeit svc.fit(X2, y2)"
   ]
  },
  {
   "cell_type": "code",
   "execution_count": null,
   "metadata": {},
   "outputs": [],
   "source": [
    "%%timeit\n",
    "X2_transformed = nystroem.fit_transform(X2)\n",
    "sgd.fit(X2_transformed, y2)"
   ]
  },
  {
   "cell_type": "markdown",
   "metadata": {},
   "source": [
    "## Question 5\n",
    "Try Tuning hyper-parameters for the svm kernal using GridSearchCV\n",
    "\n",
    "* Take the complete dataset\n",
    "* Define y as data.color = 'red'\n",
    "* Remaining columns as X\n",
    "* Do a test and train split\n",
    "* Set parameters for cross validation. Do this for as many values of gamma and C\n",
    "* Using gridsearchcv to run through the data using the various parameters values\n",
    "* Get the mean and standard deviation on the set for the various combination of gamma and C values\n",
    "* print the best parameters in the training set"
   ]
  },
  {
   "cell_type": "code",
   "execution_count": null,
   "metadata": {
    "collapsed": true
   },
   "outputs": [],
   "source": [
    "from sklearn import svm\n",
    "from sklearn.utils import shuffle\n",
    "from sklearn.model_selection import train_test_split\n",
    "from sklearn.model_selection import GridSearchCV\n",
    "\n"
   ]
  },
  {
   "cell_type": "markdown",
   "metadata": {},
   "source": [
    "## Question 6\n",
    "   Use the model from previous question to predict \n",
    " \n",
    " * Perform the prediction on the test set  \n",
    " * Print confusion matrix, accuracy and classification report"
   ]
  },
  {
   "cell_type": "code",
   "execution_count": null,
   "metadata": {
    "collapsed": true
   },
   "outputs": [],
   "source": [
    "from sklearn.metrics import confusion_matrix\n",
    "from sklearn.metrics import accuracy_score\n",
    "from sklearn.metrics import classification_report\n"
   ]
  },
  {
   "cell_type": "code",
   "execution_count": null,
   "metadata": {
    "collapsed": true
   },
   "outputs": [],
   "source": []
  }
 ],
 "metadata": {
  "kernelspec": {
   "display_name": "Python 3",
   "language": "python",
   "name": "python3"
  },
  "language_info": {
   "codemirror_mode": {
    "name": "ipython",
    "version": 3
   },
   "file_extension": ".py",
   "mimetype": "text/x-python",
   "name": "python",
   "nbconvert_exporter": "python",
   "pygments_lexer": "ipython3",
   "version": "3.6.7"
  },
  "toc": {
   "base_numbering": 1,
   "nav_menu": {},
   "number_sections": true,
   "sideBar": true,
   "skip_h1_title": false,
   "title_cell": "Table of Contents",
   "title_sidebar": "Contents",
   "toc_cell": false,
   "toc_position": {},
   "toc_section_display": true,
   "toc_window_display": false
  },
  "varInspector": {
   "cols": {
    "lenName": 16,
    "lenType": 16,
    "lenVar": 40
   },
   "kernels_config": {
    "python": {
     "delete_cmd_postfix": "",
     "delete_cmd_prefix": "del ",
     "library": "var_list.py",
     "varRefreshCmd": "print(var_dic_list())"
    },
    "r": {
     "delete_cmd_postfix": ") ",
     "delete_cmd_prefix": "rm(",
     "library": "var_list.r",
     "varRefreshCmd": "cat(var_dic_list()) "
    }
   },
   "types_to_exclude": [
    "module",
    "function",
    "builtin_function_or_method",
    "instance",
    "_Feature"
   ],
   "window_display": false
  }
 },
 "nbformat": 4,
 "nbformat_minor": 2
}
